{
 "cells": [
  {
   "cell_type": "markdown",
   "id": "99b88828",
   "metadata": {},
   "source": [
    "Problem Statement:-\n",
    "We want to predict how much money we should budget for sales commissions for the next year.\n",
    "We have a defined formula for calculating commissions and we likely have some experience with prior years’ commissions payments.\n",
    "\n",
    "This problem is important from a business perspective. Sales commissions can be a large selling expense and it is important to plan appropriately for this expense.\n",
    "\n",
    "\"Note- the given prerequired data is itself a simulation of real world data\"\n",
    "\n",
    "In this example, the sample sales commission would look like this for a 500 person sales force:\n"
   ]
  },
  {
   "cell_type": "code",
   "execution_count": 1,
   "id": "6e21e46a",
   "metadata": {},
   "outputs": [],
   "source": [
    "#First of all, importing important libraries:\n",
    "\n",
    "import pandas as pd\n",
    "import numpy as np\n",
    "from scipy.stats import norm\n",
    "from scipy.stats import uniform\n",
    "import seaborn as sns\n",
    "import matplotlib.pyplot as plt\n",
    "\n",
    "sns.set_style('whitegrid')"
   ]
  },
  {
   "cell_type": "code",
   "execution_count": 42,
   "id": "a799da4f",
   "metadata": {},
   "outputs": [],
   "source": [
    "# analysing the data we have for current year\n",
    "\n",
    "s_df = pd.read_csv('d:/f_sales_rep')\n",
    "h_df = pd.read_csv('d:/rep_history')\n",
    "\n",
    "#adjusting some unname column and getting it clear to understand\n",
    "\n",
    "s_df.rename({\"Unnamed: 0\":\"a\"}, axis=\"columns\", inplace=True)\n",
    "s_df.drop(['a'],axis=1,inplace=True)\n",
    "\n",
    "h_df.rename({\"Unnamed: 0\":\"a\"}, axis=\"columns\", inplace=True)\n",
    "h_df.drop(['a'],axis=1,inplace=True)"
   ]
  },
  {
   "cell_type": "markdown",
   "id": "7e6a7a4b",
   "metadata": {},
   "source": [
    "This is the performance data of 500 sales reps. for this year and we need to predict the \"Budget required for Total Commission Amount\" for next year."
   ]
  },
  {
   "cell_type": "code",
   "execution_count": 44,
   "id": "88fc6a84",
   "metadata": {},
   "outputs": [
    {
     "data": {
      "text/html": [
       "<div>\n",
       "<style scoped>\n",
       "    .dataframe tbody tr th:only-of-type {\n",
       "        vertical-align: middle;\n",
       "    }\n",
       "\n",
       "    .dataframe tbody tr th {\n",
       "        vertical-align: top;\n",
       "    }\n",
       "\n",
       "    .dataframe thead th {\n",
       "        text-align: right;\n",
       "    }\n",
       "</style>\n",
       "<table border=\"1\" class=\"dataframe\">\n",
       "  <thead>\n",
       "    <tr style=\"text-align: right;\">\n",
       "      <th></th>\n",
       "      <th>Sales_Target</th>\n",
       "      <th>Pct_To_Target</th>\n",
       "      <th>Sales</th>\n",
       "      <th>Commission_Rate</th>\n",
       "      <th>Commission_Amount</th>\n",
       "    </tr>\n",
       "  </thead>\n",
       "  <tbody>\n",
       "    <tr>\n",
       "      <th>0</th>\n",
       "      <td>100000</td>\n",
       "      <td>111.0</td>\n",
       "      <td>111000.0</td>\n",
       "      <td>4</td>\n",
       "      <td>4440.0</td>\n",
       "    </tr>\n",
       "    <tr>\n",
       "      <th>1</th>\n",
       "      <td>100000</td>\n",
       "      <td>98.0</td>\n",
       "      <td>98000.0</td>\n",
       "      <td>3</td>\n",
       "      <td>2940.0</td>\n",
       "    </tr>\n",
       "    <tr>\n",
       "      <th>2</th>\n",
       "      <td>100000</td>\n",
       "      <td>110.0</td>\n",
       "      <td>110000.0</td>\n",
       "      <td>4</td>\n",
       "      <td>4400.0</td>\n",
       "    </tr>\n",
       "    <tr>\n",
       "      <th>3</th>\n",
       "      <td>100000</td>\n",
       "      <td>96.0</td>\n",
       "      <td>96000.0</td>\n",
       "      <td>3</td>\n",
       "      <td>2880.0</td>\n",
       "    </tr>\n",
       "    <tr>\n",
       "      <th>4</th>\n",
       "      <td>500000</td>\n",
       "      <td>111.0</td>\n",
       "      <td>555000.0</td>\n",
       "      <td>4</td>\n",
       "      <td>22200.0</td>\n",
       "    </tr>\n",
       "    <tr>\n",
       "      <th>...</th>\n",
       "      <td>...</td>\n",
       "      <td>...</td>\n",
       "      <td>...</td>\n",
       "      <td>...</td>\n",
       "      <td>...</td>\n",
       "    </tr>\n",
       "    <tr>\n",
       "      <th>495</th>\n",
       "      <td>100000</td>\n",
       "      <td>82.0</td>\n",
       "      <td>82000.0</td>\n",
       "      <td>2</td>\n",
       "      <td>1640.0</td>\n",
       "    </tr>\n",
       "    <tr>\n",
       "      <th>496</th>\n",
       "      <td>100000</td>\n",
       "      <td>83.0</td>\n",
       "      <td>83000.0</td>\n",
       "      <td>2</td>\n",
       "      <td>1660.0</td>\n",
       "    </tr>\n",
       "    <tr>\n",
       "      <th>497</th>\n",
       "      <td>500000</td>\n",
       "      <td>110.0</td>\n",
       "      <td>550000.0</td>\n",
       "      <td>4</td>\n",
       "      <td>22000.0</td>\n",
       "    </tr>\n",
       "    <tr>\n",
       "      <th>498</th>\n",
       "      <td>100000</td>\n",
       "      <td>111.0</td>\n",
       "      <td>111000.0</td>\n",
       "      <td>4</td>\n",
       "      <td>4440.0</td>\n",
       "    </tr>\n",
       "    <tr>\n",
       "      <th>499</th>\n",
       "      <td>200000</td>\n",
       "      <td>105.0</td>\n",
       "      <td>210000.0</td>\n",
       "      <td>4</td>\n",
       "      <td>8400.0</td>\n",
       "    </tr>\n",
       "  </tbody>\n",
       "</table>\n",
       "<p>500 rows × 5 columns</p>\n",
       "</div>"
      ],
      "text/plain": [
       "     Sales_Target  Pct_To_Target     Sales  Commission_Rate  Commission_Amount\n",
       "0          100000          111.0  111000.0                4             4440.0\n",
       "1          100000           98.0   98000.0                3             2940.0\n",
       "2          100000          110.0  110000.0                4             4400.0\n",
       "3          100000           96.0   96000.0                3             2880.0\n",
       "4          500000          111.0  555000.0                4            22200.0\n",
       "..            ...            ...       ...              ...                ...\n",
       "495        100000           82.0   82000.0                2             1640.0\n",
       "496        100000           83.0   83000.0                2             1660.0\n",
       "497        500000          110.0  550000.0                4            22000.0\n",
       "498        100000          111.0  111000.0                4             4440.0\n",
       "499        200000          105.0  210000.0                4             8400.0\n",
       "\n",
       "[500 rows x 5 columns]"
      ]
     },
     "execution_count": 44,
     "metadata": {},
     "output_type": "execute_result"
    }
   ],
   "source": [
    "s_df"
   ]
  },
  {
   "cell_type": "code",
   "execution_count": 46,
   "id": "f2739cc8",
   "metadata": {},
   "outputs": [
    {
     "data": {
      "text/plain": [
       "3064330.0"
      ]
     },
     "execution_count": 46,
     "metadata": {},
     "output_type": "execute_result"
    }
   ],
   "source": [
    "#Our total Commission given this year is\n",
    "\n",
    "s_df['Commission_Amount'].sum()"
   ]
  },
  {
   "cell_type": "code",
   "execution_count": null,
   "id": "16dc3b3e",
   "metadata": {},
   "outputs": [],
   "source": []
  },
  {
   "cell_type": "markdown",
   "id": "d54fd315",
   "metadata": {},
   "source": [
    "Exploring given data-\n",
    "Now, we have known the Total of Commission given in current year, we have are fortunate to have the historical data of percentage to target and sales target of sales reps. in previous years, we can use it to simulate the data for next year, and get the estimated total budget for Sales Commission for the company."
   ]
  },
  {
   "cell_type": "markdown",
   "id": "1799aae0",
   "metadata": {},
   "source": [
    "For finding the solution:\n",
    "we can simply generate random number of percentage completed and multiply it with the target that gets us actual sales of simulation, then we use that information to get the commission estimate for 1 such simulation, now for getting a estimate of average total comission we can use this simulation multiple times to get closure to accuracy as possible. "
   ]
  },
  {
   "cell_type": "code",
   "execution_count": null,
   "id": "a42c6ac8",
   "metadata": {},
   "outputs": [],
   "source": [
    "Given Commission Rate is distributed as:-\n",
    "    0-90%  = 2%\n",
    "    91-99% = 3%\n",
    "    >=100% = 4%"
   ]
  },
  {
   "cell_type": "code",
   "execution_count": 54,
   "id": "8681ce27",
   "metadata": {
    "scrolled": true
   },
   "outputs": [
    {
     "name": "stderr",
     "output_type": "stream",
     "text": [
      "E:\\Softwareinstalled\\Anacondaforpython\\lib\\site-packages\\seaborn\\distributions.py:2619: FutureWarning: `distplot` is a deprecated function and will be removed in a future version. Please adapt your code to use either `displot` (a figure-level function with similar flexibility) or `histplot` (an axes-level function for histograms).\n",
      "  warnings.warn(msg, FutureWarning)\n"
     ]
    },
    {
     "data": {
      "text/plain": [
       "Text(0.5, 1.0, 'Actual target distribution')"
      ]
     },
     "execution_count": 54,
     "metadata": {},
     "output_type": "execute_result"
    },
    {
     "data": {
      "image/png": "[encoded data removed]",
      "text/plain": [
       "<Figure size 432x288 with 1 Axes>"
      ]
     },
     "metadata": {},
     "output_type": "display_data"
    }
   ],
   "source": [
    "sns.distplot(h_df['actual_target']).set_title('Actual target distribution')"
   ]
  },
  {
   "cell_type": "markdown",
   "id": "2fca05b8",
   "metadata": {},
   "source": [
    "From this we found that there is a ration between targets are divided most of targets belongs to 100000 followed by other, they can be randomise using their probability of occurance."
   ]
  },
  {
   "cell_type": "code",
   "execution_count": 51,
   "id": "a561cc0b",
   "metadata": {},
   "outputs": [
    {
     "name": "stderr",
     "output_type": "stream",
     "text": [
      "E:\\Softwareinstalled\\Anacondaforpython\\lib\\site-packages\\seaborn\\distributions.py:2619: FutureWarning: `distplot` is a deprecated function and will be removed in a future version. Please adapt your code to use either `displot` (a figure-level function with similar flexibility) or `histplot` (an axes-level function for histograms).\n",
      "  warnings.warn(msg, FutureWarning)\n"
     ]
    },
    {
     "data": {
      "text/plain": [
       "Text(0.5, 1.0, 'Completion percentage')"
      ]
     },
     "execution_count": 51,
     "metadata": {},
     "output_type": "execute_result"
    },
    {
     "data": {
      "image/png": "[encoded data removed]",
      "text/plain": [
       "<Figure size 432x288 with 1 Axes>"
      ]
     },
     "metadata": {},
     "output_type": "display_data"
    }
   ],
   "source": [
    "sns.distplot(h_df['completion_%']).set_title('Completion percentage')"
   ]
  },
  {
   "cell_type": "markdown",
   "id": "783743c4",
   "metadata": {},
   "source": [
    "From the plot we can able to see that this is a normal distribution and the peak is at mean and mode of the data which is approx 100 and varience is 10 (we can find it using basics of normal distribution where curve is symmetric and mean+3 sigma covers 99 percent of our data); \n",
    "\n",
    "This insight is useful because we can model our input variable distribution so that it is similar to our real world experience."
   ]
  },
  {
   "cell_type": "code",
   "execution_count": 52,
   "id": "df98e96c",
   "metadata": {},
   "outputs": [
    {
     "name": "stderr",
     "output_type": "stream",
     "text": [
      "E:\\Softwareinstalled\\Anacondaforpython\\lib\\site-packages\\seaborn\\distributions.py:2619: FutureWarning: `distplot` is a deprecated function and will be removed in a future version. Please adapt your code to use either `displot` (a figure-level function with similar flexibility) or `histplot` (an axes-level function for histograms).\n",
      "  warnings.warn(msg, FutureWarning)\n"
     ]
    },
    {
     "data": {
      "text/plain": [
       "Text(0.5, 1.0, 'Percent to Target Distribution')"
      ]
     },
     "execution_count": 52,
     "metadata": {},
     "output_type": "execute_result"
    },
    {
     "data": {
      "image/png": "[encoded data removed]",
      "text/plain": [
       "<Figure size 432x288 with 1 Axes>"
      ]
     },
     "metadata": {},
     "output_type": "display_data"
    }
   ],
   "source": [
    "#Now we need to generate Random numbers for percentages using scipy function\n",
    "\n",
    "mean = 100\n",
    "std_dev = 10\n",
    "num_reps = 500\n",
    "\n",
    "pct_to_target = norm.rvs(mean, std_dev, num_reps).round(1)\n",
    "sns.distplot(pct_to_target).set_title('Percent to Target Distribution')"
   ]
  },
  {
   "cell_type": "markdown",
   "id": "962fa65e",
   "metadata": {},
   "source": [
    "As we can see that the random numbers are generated actually dipicts the actual data with same normal distribtuion"
   ]
  },
  {
   "cell_type": "code",
   "execution_count": null,
   "id": "9c153082",
   "metadata": {},
   "outputs": [],
   "source": []
  },
  {
   "cell_type": "code",
   "execution_count": 55,
   "id": "38407da9",
   "metadata": {},
   "outputs": [],
   "source": [
    "# time to generate random data of target using their occurance probability\n",
    "\n",
    "sales_target_values = [100_000, 200_000, 300_000, 400_000, 500_000]\n",
    "sales_target_prob = [.5, .25, .15, .05, .05]\n",
    "sales_target = np.random.choice(sales_target_values, num_reps, p=sales_target_prob)"
   ]
  },
  {
   "cell_type": "code",
   "execution_count": 56,
   "id": "7b4984f8",
   "metadata": {},
   "outputs": [],
   "source": [
    "#putting 1st simulated data of target and achieved percentage in a DataFrame\n",
    "\n",
    "df = pd.DataFrame(index=range(num_reps), data={'Pct_To_Target': pct_to_target,\n",
    "                                               'Sales_Target': sales_target})\n",
    "\n",
    "# Calculate sales\n",
    "df['Sales'] = df['Sales_Target']*df['Pct_To_Target']/100"
   ]
  },
  {
   "cell_type": "code",
   "execution_count": 57,
   "id": "e7eb8e76",
   "metadata": {},
   "outputs": [],
   "source": [
    "# I am defining a function to calculate commission percentage on basis of given information by company\n",
    "\n",
    "def calc_commission_rate(x):\n",
    "    \"\"\" Return the commission rate based on the table:\n",
    "    0-90% = 2%\n",
    "    91-99% = 3%\n",
    "    >= 100 = 4%\n",
    "    \"\"\"\n",
    "    # Your code here\n",
    "\n",
    "    if 0 < x <= 90:\n",
    "        return 2\n",
    "    elif x<=99:\n",
    "        return 3\n",
    "    else:\n",
    "        return 4"
   ]
  },
  {
   "cell_type": "code",
   "execution_count": 58,
   "id": "407f76ff",
   "metadata": {},
   "outputs": [],
   "source": [
    "# applying the function and adding the required data to dataframe\n",
    "\n",
    "df['Commission_Rate'] = df['Pct_To_Target'].apply(calc_commission_rate)\n",
    "df['Commission_Amount'] = df['Commission_Rate']*df['Sales']/100"
   ]
  },
  {
   "cell_type": "code",
   "execution_count": 59,
   "id": "286da95a",
   "metadata": {},
   "outputs": [
    {
     "data": {
      "text/plain": [
       "3230635.0"
      ]
     },
     "execution_count": 59,
     "metadata": {},
     "output_type": "execute_result"
    }
   ],
   "source": [
    "# this is the sum of total commission given for our simulation\n",
    "df['Commission_Amount'].sum()"
   ]
  },
  {
   "cell_type": "code",
   "execution_count": null,
   "id": "c0b83081",
   "metadata": {},
   "outputs": [],
   "source": []
  },
  {
   "cell_type": "markdown",
   "id": "88a4e420",
   "metadata": {},
   "source": [
    "The real “magic” of the \"Monte Carlo simulation\" is that if we run a simulation many times, we start to develop a picture of the likely distribution of results."
   ]
  },
  {
   "cell_type": "code",
   "execution_count": 60,
   "id": "32d5d0ef",
   "metadata": {},
   "outputs": [],
   "source": [
    "# Basically we are running a for loop to do 1000 simulation and store all total commission\n",
    "# for each simulation in a dataframe to further analyse the data.\n",
    "\n",
    "num_simulations = 1000\n",
    "\n",
    "# Define a dataframe to keep all the results from each simulation that we want to analyze\n",
    "results_df = pd.DataFrame()\n",
    "\n",
    "# Loop through many simulations\n",
    "for i in range(num_simulations):\n",
    "\n",
    "    # Choose random inputs for the sales targets and percent to target\n",
    "    mean = 100\n",
    "    std_dev = 10\n",
    "    num_reps = 500\n",
    "    pct_to_target = norm.rvs(mean, std_dev, num_reps).round(1)\n",
    "    sales_target_values = [100_000, 200_000, 300_000, 400_000, 500_000]\n",
    "    sales_target_prob = [.5, .25, .15, .05, .05]\n",
    "    sales_target = np.random.choice(sales_target_values, num_reps, p=sales_target_prob)\n",
    "\n",
    "    # Build the dataframe based on the inputs and number of reps\n",
    "    df = pd.DataFrame(index=range(num_reps), data={'Pct_To_Target': pct_to_target,'Sales_Target': sales_target})\n",
    "\n",
    "\n",
    "    # Back into the sales number using the percent to target rate\n",
    "    df['Sales'] = df['Sales_Target']*df['Pct_To_Target']/100  \n",
    "\n",
    "    # Determine the commissions rate and calculating\n",
    "    df['Commission_Rate'] = df['Pct_To_Target'].apply(calc_commission_rate)\n",
    "    df['Commission_Amount'] = df['Commission_Rate']*df['Sales']/100\n",
    "\n",
    "    # We want to track sales,commission amounts and sales targets over all the simulations\n",
    "\n",
    "    results_df = results_df.append({'total_target':df['Sales_Target'].sum(), 'total_sales':df['Sales'].sum(), 'total_commission':df['Commission_Amount'].sum()},ignore_index=True)\n"
   ]
  },
  {
   "cell_type": "code",
   "execution_count": 63,
   "id": "7f5190b3",
   "metadata": {},
   "outputs": [
    {
     "name": "stderr",
     "output_type": "stream",
     "text": [
      "E:\\Softwareinstalled\\Anacondaforpython\\lib\\site-packages\\seaborn\\distributions.py:2619: FutureWarning: `distplot` is a deprecated function and will be removed in a future version. Please adapt your code to use either `displot` (a figure-level function with similar flexibility) or `histplot` (an axes-level function for histograms).\n",
      "  warnings.warn(msg, FutureWarning)\n"
     ]
    },
    {
     "data": {
      "text/plain": [
       "<AxesSubplot:xlabel='total_commission', ylabel='Density'>"
      ]
     },
     "execution_count": 63,
     "metadata": {},
     "output_type": "execute_result"
    },
    {
     "data": {
      "image/png": "[encoded data removed]",
      "text/plain": [
       "<Figure size 432x288 with 1 Axes>"
      ]
     },
     "metadata": {},
     "output_type": "display_data"
    }
   ],
   "source": [
    "sns.distplot(results_df['total_commission'])"
   ]
  },
  {
   "cell_type": "code",
   "execution_count": 64,
   "id": "18b191a1",
   "metadata": {},
   "outputs": [
    {
     "data": {
      "text/html": [
       "<style type=\"text/css\">\n",
       "</style>\n",
       "<table id=\"T_a8b6d_\">\n",
       "  <thead>\n",
       "    <tr>\n",
       "      <th class=\"blank level0\" >&nbsp;</th>\n",
       "      <th class=\"col_heading level0 col0\" >total_target</th>\n",
       "      <th class=\"col_heading level0 col1\" >total_sales</th>\n",
       "      <th class=\"col_heading level0 col2\" >total_commission</th>\n",
       "    </tr>\n",
       "  </thead>\n",
       "  <tbody>\n",
       "    <tr>\n",
       "      <th id=\"T_a8b6d_level0_row0\" class=\"row_heading level0 row0\" >count</th>\n",
       "      <td id=\"T_a8b6d_row0_col0\" class=\"data row0 col0\" >1,000.0</td>\n",
       "      <td id=\"T_a8b6d_row0_col1\" class=\"data row0 col1\" >1,000.0</td>\n",
       "      <td id=\"T_a8b6d_row0_col2\" class=\"data row0 col2\" >1,000.0</td>\n",
       "    </tr>\n",
       "    <tr>\n",
       "      <th id=\"T_a8b6d_level0_row1\" class=\"row_heading level0 row1\" >mean</th>\n",
       "      <td id=\"T_a8b6d_row1_col0\" class=\"data row1 col0\" >94,934,200.0</td>\n",
       "      <td id=\"T_a8b6d_row1_col1\" class=\"data row1 col1\" >94,947,656.7</td>\n",
       "      <td id=\"T_a8b6d_row1_col2\" class=\"data row1 col2\" >3,269,083.744</td>\n",
       "    </tr>\n",
       "    <tr>\n",
       "      <th id=\"T_a8b6d_level0_row2\" class=\"row_heading level0 row2\" >std</th>\n",
       "      <td id=\"T_a8b6d_row2_col0\" class=\"data row2 col0\" >2,582,514.2283712085</td>\n",
       "      <td id=\"T_a8b6d_row2_col1\" class=\"data row2 col1\" >2,602,539.389844251</td>\n",
       "      <td id=\"T_a8b6d_row2_col2\" class=\"data row2 col2\" >100,131.60689268589</td>\n",
       "    </tr>\n",
       "    <tr>\n",
       "      <th id=\"T_a8b6d_level0_row3\" class=\"row_heading level0 row3\" >min</th>\n",
       "      <td id=\"T_a8b6d_row3_col0\" class=\"data row3 col0\" >87,300,000.0</td>\n",
       "      <td id=\"T_a8b6d_row3_col1\" class=\"data row3 col1\" >87,149,900.0</td>\n",
       "      <td id=\"T_a8b6d_row3_col2\" class=\"data row3 col2\" >2,976,401.0</td>\n",
       "    </tr>\n",
       "    <tr>\n",
       "      <th id=\"T_a8b6d_level0_row4\" class=\"row_heading level0 row4\" >25%</th>\n",
       "      <td id=\"T_a8b6d_row4_col0\" class=\"data row4 col0\" >93,000,000.0</td>\n",
       "      <td id=\"T_a8b6d_row4_col1\" class=\"data row4 col1\" >93,078,375.0</td>\n",
       "      <td id=\"T_a8b6d_row4_col2\" class=\"data row4 col2\" >3,196,518.75</td>\n",
       "    </tr>\n",
       "    <tr>\n",
       "      <th id=\"T_a8b6d_level0_row5\" class=\"row_heading level0 row5\" >50%</th>\n",
       "      <td id=\"T_a8b6d_row5_col0\" class=\"data row5 col0\" >94,900,000.0</td>\n",
       "      <td id=\"T_a8b6d_row5_col1\" class=\"data row5 col1\" >94,956,900.0</td>\n",
       "      <td id=\"T_a8b6d_row5_col2\" class=\"data row5 col2\" >3,266,518.5</td>\n",
       "    </tr>\n",
       "    <tr>\n",
       "      <th id=\"T_a8b6d_level0_row6\" class=\"row_heading level0 row6\" >75%</th>\n",
       "      <td id=\"T_a8b6d_row6_col0\" class=\"data row6 col0\" >96,600,000.0</td>\n",
       "      <td id=\"T_a8b6d_row6_col1\" class=\"data row6 col1\" >96,653,725.0</td>\n",
       "      <td id=\"T_a8b6d_row6_col2\" class=\"data row6 col2\" >3,337,029.0</td>\n",
       "    </tr>\n",
       "    <tr>\n",
       "      <th id=\"T_a8b6d_level0_row7\" class=\"row_heading level0 row7\" >max</th>\n",
       "      <td id=\"T_a8b6d_row7_col0\" class=\"data row7 col0\" >103,900,000.0</td>\n",
       "      <td id=\"T_a8b6d_row7_col1\" class=\"data row7 col1\" >104,240,300.0</td>\n",
       "      <td id=\"T_a8b6d_row7_col2\" class=\"data row7 col2\" >3,626,583.0</td>\n",
       "    </tr>\n",
       "  </tbody>\n",
       "</table>\n"
      ],
      "text/plain": [
       "<pandas.io.formats.style.Styler at 0x1c7c31302e0>"
      ]
     },
     "execution_count": 64,
     "metadata": {},
     "output_type": "execute_result"
    }
   ],
   "source": [
    "results_df.describe().style.format('{:,}')"
   ]
  },
  {
   "cell_type": "code",
   "execution_count": null,
   "id": "bbd8c4f8",
   "metadata": {},
   "outputs": [],
   "source": []
  },
  {
   "cell_type": "markdown",
   "id": "b608237d",
   "metadata": {},
   "source": [
    "Now after running a loop for 1000 times, we can say that the mean of the data which is 3,269,083.744 approximately best fit our budget for next year, using this technique of 'Monte Carlo Simulation\" we can solve many complex problems."
   ]
  }
 ],
 "metadata": {
  "kernelspec": {
   "display_name": "Python 3 (ipykernel)",
   "language": "python",
   "name": "python3"
  },
  "language_info": {
   "codemirror_mode": {
    "name": "ipython",
    "version": 3
   },
   "file_extension": ".py",
   "mimetype": "text/x-python",
   "name": "python",
   "nbconvert_exporter": "python",
   "pygments_lexer": "ipython3",
   "version": "3.9.7"
  }
 },
 "nbformat": 4,
 "nbformat_minor": 5
}
